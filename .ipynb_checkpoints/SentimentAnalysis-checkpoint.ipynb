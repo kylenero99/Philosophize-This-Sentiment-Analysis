{
 "cells": [
  {
   "cell_type": "code",
   "execution_count": 2,
   "metadata": {},
   "outputs": [],
   "source": [
    "# web scraping tutorial: https://realpython.com/beautiful-soup-web-scraper-python/#part-1-inspect-your-data-source\n",
    "import pandas as pd\n",
    "import requests\n",
    "import time\n",
    "from bs4 import BeautifulSoup"
   ]
  },
  {
   "cell_type": "code",
   "execution_count": 4,
   "metadata": {},
   "outputs": [
    {
     "name": "stdout",
     "output_type": "stream",
     "text": [
      "9.3052659034729\n"
     ]
    }
   ],
   "source": [
    "# example full url: https://www.philosophizethis.org/podcast/episode-149-transcript\n",
    "\n",
    "full_urls = []\n",
    "for i in range(2, 21): #149 total episodes so far, first episode has no transcript\n",
    "    full_urls.append(\"https://www.philosophizethis.org/podcast/episode-\" + str(i) + \"-transcript\") #start with ? maybe\n",
    "\n",
    "start = time.time()\n",
    "\n",
    "soups = []\n",
    "for url in full_urls:\n",
    "    page = requests.get(url)\n",
    "    soup = BeautifulSoup(page.text, \"html.parser\")\n",
    "    if \"We couldn't find the page you were looking for\" not in str(soup):\n",
    "        soups.append(soup)\n",
    "\n",
    "stop = time.time()\n",
    "print(stop - start)"
   ]
  },
  {
   "cell_type": "code",
   "execution_count": 69,
   "metadata": {},
   "outputs": [
    {
     "data": {
      "text/plain": [
       "3"
      ]
     },
     "execution_count": 69,
     "metadata": {},
     "output_type": "execute_result"
    }
   ],
   "source": [
    "episode_numbers = []\n",
    "transcripts = []\n",
    "word_lists = []\n",
    "\n",
    "len(soups)"
   ]
  },
  {
   "cell_type": "code",
   "execution_count": 70,
   "metadata": {},
   "outputs": [],
   "source": [
    "results = soups[0].find(id=\"block-5eec162909afd80facd6f8f3\")\n",
    "text = str(results.prettify)\n",
    "cleaned_transcript = \"\"\n",
    "for letter in transcript:\n",
    "    if letter.isalpha() or letter == \" \":\n",
    "        cleaned_transcript += letter\n",
    "transcript = text[text.find(\"\\xa0</em>\")+len(\"\\xa0</em>\"):text.find(\"</p>\\n</div></div>>\")-len(\"</p>\\n</div></div>>\")]\n",
    "transcripts.append(cleaned_transcript)\n",
    "word_lists.append(cleaned_transcript.split())\n",
    "\n",
    "index_episode = text.find(\"Episode\", 0, len(text))\n",
    "episode_number = text[index_episode: index_episode + 10]\n",
    "splitted = episode_number.split()\n",
    "episode_and_number = splitted[0] + \" \" + splitted[1]\n",
    "episode_numbers.append(episode_and_number)"
   ]
  },
  {
   "cell_type": "code",
   "execution_count": 71,
   "metadata": {},
   "outputs": [],
   "source": [
    "results = soups[1].find(id=\"item-5eec168d09afd80facd70dfb\")\n",
    "text = str(results.prettify)\n",
    "transcript = text[text.find(\"\\xa0</em>\")+len(\"\\xa0</em>\"):text.find(\"</p>\\n</div></div>>\")-len(\"</p>\\n</div></div>>\")]\n",
    "cleaned_transcript = \"\"\n",
    "for letter in transcript:\n",
    "    if letter.isalpha() or letter == \" \":\n",
    "        cleaned_transcript += letter\n",
    "transcripts.append(cleaned_transcript)\n",
    "word_lists.append(cleaned_transcript.split())\n",
    "\n",
    "index_episode = text.find(\"Episode\", 0, len(text))\n",
    "episode_number = text[index_episode: index_episode + 10]\n",
    "splitted = episode_number.split()\n",
    "episode_and_number = splitted[0] + \" \" + splitted[1]\n",
    "episode_numbers.append(episode_and_number)"
   ]
  },
  {
   "cell_type": "code",
   "execution_count": 72,
   "metadata": {},
   "outputs": [],
   "source": [
    "results = soups[2].find(id=\"item-5eec171509afd80facd73164\")\n",
    "text = str(results.prettify)\n",
    "transcript = text[text.find(\"\\xa0</em>\")+len(\"\\xa0</em>\"):text.find(\"</p>\\n</div></div>>\")-len(\"</p>\\n</div></div>>\")]\n",
    "cleaned_transcript = \"\"\n",
    "for letter in transcript:\n",
    "    if letter.isalpha() or letter == \" \":\n",
    "        cleaned_transcript += letter\n",
    "transcripts.append(cleaned_transcript)\n",
    "word_lists.append(cleaned_transcript.split())\n",
    "\n",
    "index_episode = text.find(\"Episode\", 0, len(text))\n",
    "episode_number = text[index_episode: index_episode + 10]\n",
    "splitted = episode_number.split()\n",
    "episode_and_number = splitted[0] + \" \" + splitted[1]\n",
    "episode_numbers.append(episode_and_number)"
   ]
  },
  {
   "cell_type": "code",
   "execution_count": 73,
   "metadata": {},
   "outputs": [],
   "source": [
    "# turn the code above into a for loop, find a good way to find the id's"
   ]
  },
  {
   "cell_type": "code",
   "execution_count": 74,
   "metadata": {},
   "outputs": [
    {
     "data": {
      "text/html": [
       "<div>\n",
       "<style scoped>\n",
       "    .dataframe tbody tr th:only-of-type {\n",
       "        vertical-align: middle;\n",
       "    }\n",
       "\n",
       "    .dataframe tbody tr th {\n",
       "        vertical-align: top;\n",
       "    }\n",
       "\n",
       "    .dataframe thead th {\n",
       "        text-align: right;\n",
       "    }\n",
       "</style>\n",
       "<table border=\"1\" class=\"dataframe\">\n",
       "  <thead>\n",
       "    <tr style=\"text-align: right;\">\n",
       "      <th></th>\n",
       "      <th>Episode</th>\n",
       "      <th>Transcripts</th>\n",
       "      <th>Word List</th>\n",
       "    </tr>\n",
       "  </thead>\n",
       "  <tbody>\n",
       "    <tr>\n",
       "      <th>0</th>\n",
       "      <td>Episode 2</td>\n",
       "      <td>Most Philosophy curriculums at Universities do...</td>\n",
       "      <td>[Most, Philosophy, curriculums, at, Universiti...</td>\n",
       "    </tr>\n",
       "    <tr>\n",
       "      <th>1</th>\n",
       "      <td>Episode 10</td>\n",
       "      <td>Have you guys ever heard of a stoa A stoa was ...</td>\n",
       "      <td>[Have, you, guys, ever, heard, of, a, stoa, A,...</td>\n",
       "    </tr>\n",
       "    <tr>\n",
       "      <th>2</th>\n",
       "      <td>Episode 12</td>\n",
       "      <td>Most Philosophy curriculums at Universities do...</td>\n",
       "      <td>[Most, Philosophy, curriculums, at, Universiti...</td>\n",
       "    </tr>\n",
       "  </tbody>\n",
       "</table>\n",
       "</div>"
      ],
      "text/plain": [
       "      Episode                                        Transcripts  \\\n",
       "0   Episode 2  Most Philosophy curriculums at Universities do...   \n",
       "1  Episode 10  Have you guys ever heard of a stoa A stoa was ...   \n",
       "2  Episode 12  Most Philosophy curriculums at Universities do...   \n",
       "\n",
       "                                           Word List  \n",
       "0  [Most, Philosophy, curriculums, at, Universiti...  \n",
       "1  [Have, you, guys, ever, heard, of, a, stoa, A,...  \n",
       "2  [Most, Philosophy, curriculums, at, Universiti...  "
      ]
     },
     "execution_count": 74,
     "metadata": {},
     "output_type": "execute_result"
    }
   ],
   "source": [
    "df = pd.DataFrame({'Episode': episode_numbers,\n",
    "   ...:              'Transcripts': transcripts,\n",
    "   ...:              'Word List': word_lists})\n",
    "df"
   ]
  },
  {
   "cell_type": "code",
   "execution_count": null,
   "metadata": {},
   "outputs": [],
   "source": []
  }
 ],
 "metadata": {
  "kernelspec": {
   "display_name": "Python 3",
   "language": "python",
   "name": "python3"
  },
  "language_info": {
   "codemirror_mode": {
    "name": "ipython",
    "version": 3
   },
   "file_extension": ".py",
   "mimetype": "text/x-python",
   "name": "python",
   "nbconvert_exporter": "python",
   "pygments_lexer": "ipython3",
   "version": "3.7.6"
  }
 },
 "nbformat": 4,
 "nbformat_minor": 4
}

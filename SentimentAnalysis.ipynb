{
 "cells": [
  {
   "cell_type": "code",
   "execution_count": null,
   "metadata": {},
   "outputs": [],
   "source": [
    "# web scraping tutorial: https://realpython.com/beautiful-soup-web-scraper-python/#part-1-inspect-your-data-source\n",
    "import pandas as pd\n",
    "import requests\n",
    "import time\n",
    "from bs4 import BeautifulSoup"
   ]
  },
  {
   "cell_type": "code",
   "execution_count": null,
   "metadata": {},
   "outputs": [],
   "source": [
    "# example full url: https://www.philosophizethis.org/podcast/episode-149-transcript\n",
    "\n",
    "full_urls = []\n",
    "for i in range(2, 21): #149 total episodes so far, first episode has no transcript\n",
    "    full_urls.append(\"https://www.philosophizethis.org/podcast/episode-\" + str(i) + \"-transcript\") #start with ? maybe\n",
    "\n",
    "start = time.time()\n",
    "\n",
    "soups = []\n",
    "for url in full_urls:\n",
    "    page = requests.get(url)\n",
    "    soup = BeautifulSoup(page.text, \"html.parser\")\n",
    "    if \"We couldn't find the page you were looking for\" not in str(soup):\n",
    "        soups.append(soup)\n",
    "\n",
    "stop = time.time()\n",
    "print(stop - start)"
   ]
  },
  {
   "cell_type": "code",
   "execution_count": null,
   "metadata": {},
   "outputs": [],
   "source": [
    "episode_numbers = []\n",
    "transcripts = []\n",
    "word_lists = []\n",
    "\n",
    "len(soups)"
   ]
  },
  {
   "cell_type": "code",
   "execution_count": null,
   "metadata": {},
   "outputs": [],
   "source": [
    "results = soups[0].find(id=\"block-5eec162909afd80facd6f8f3\")\n",
    "text = str(results.prettify)\n",
    "transcript = text[text.find(\"\\xa0</em>\")+len(\"\\xa0</em>\"):text.find(\"</p>\\n</div></div>>\")-len(\"</p>\\n</div></div>>\")]\n",
    "cleaned_transcript = \"\"\n",
    "for letter in transcript:\n",
    "    if letter.isalpha() or letter == \" \":\n",
    "        cleaned_transcript += letter\n",
    "transcripts.append(cleaned_transcript)\n",
    "word_lists.append(cleaned_transcript.split())\n",
    "\n",
    "index_episode = text.find(\"Episode\", 0, len(text))\n",
    "episode_number = text[index_episode: index_episode + 10]\n",
    "splitted = episode_number.split()\n",
    "episode_and_number = splitted[0] + \" \" + splitted[1]\n",
    "episode_numbers.append(episode_and_number)"
   ]
  },
  {
   "cell_type": "code",
   "execution_count": null,
   "metadata": {},
   "outputs": [],
   "source": [
    "results = soups[1].find(id=\"item-5eec168d09afd80facd70dfb\")\n",
    "text = str(results.prettify)\n",
    "transcript = text[text.find(\"\\xa0</em>\")+len(\"\\xa0</em>\"):text.find(\"</p>\\n</div></div>>\")-len(\"</p>\\n</div></div>>\")]\n",
    "cleaned_transcript = \"\"\n",
    "for letter in transcript:\n",
    "    if letter.isalpha() or letter == \" \":\n",
    "        cleaned_transcript += letter\n",
    "transcripts.append(cleaned_transcript)\n",
    "word_lists.append(cleaned_transcript.split())\n",
    "\n",
    "index_episode = text.find(\"Episode\", 0, len(text))\n",
    "episode_number = text[index_episode: index_episode + 10]\n",
    "splitted = episode_number.split()\n",
    "episode_and_number = splitted[0] + \" \" + splitted[1]\n",
    "episode_numbers.append(episode_and_number)"
   ]
  },
  {
   "cell_type": "code",
   "execution_count": null,
   "metadata": {},
   "outputs": [],
   "source": [
    "results = soups[2].find(id=\"item-5eec171509afd80facd73164\")\n",
    "text = str(results.prettify)\n",
    "transcript = text[text.find(\"\\xa0</em>\")+len(\"\\xa0</em>\"):text.find(\"</p>\\n</div></div>>\")-len(\"</p>\\n</div></div>>\")]\n",
    "cleaned_transcript = \"\"\n",
    "for letter in transcript:\n",
    "    if letter.isalpha() or letter == \" \":\n",
    "        cleaned_transcript += letter\n",
    "transcripts.append(cleaned_transcript)\n",
    "word_lists.append(cleaned_transcript.split())\n",
    "\n",
    "index_episode = text.find(\"Episode\", 0, len(text))\n",
    "episode_number = text[index_episode: index_episode + 10]\n",
    "splitted = episode_number.split()\n",
    "episode_and_number = splitted[0] + \" \" + splitted[1]\n",
    "episode_numbers.append(episode_and_number)"
   ]
  },
  {
   "cell_type": "code",
   "execution_count": null,
   "metadata": {},
   "outputs": [],
   "source": [
    "# TO-DO:\n",
    "# turn the code above into a for loop, find a good way to find the id's\n",
    "# the end of the text variable only works for episode 1"
   ]
  },
  {
   "cell_type": "code",
   "execution_count": null,
   "metadata": {},
   "outputs": [],
   "source": [
    "# make this for loop work\n",
    "\n",
    "# for soup in soups:\n",
    "#     html_string = str(soup)\n",
    "#     ids = html_string.split('\"id\"')\n",
    "#     for id in ids:\n",
    "#         text = id.split(\"\\xa0</em>\")\n",
    "#     print(text)\n",
    "#     #print(text.find(\"</p>\\n</div></div>\"))\n",
    "#     text = text[:text.find(\"</p>\\n</div></div>\")]\n",
    "#     transcripts.append(text)"
   ]
  },
  {
   "cell_type": "code",
   "execution_count": null,
   "metadata": {},
   "outputs": [],
   "source": [
    "df = pd.DataFrame({'Episode': episode_numbers,\n",
    "   ...:              'Transcripts': transcripts,\n",
    "   ...:              'Word List': word_lists})\n",
    "df"
   ]
  },
  {
   "cell_type": "code",
   "execution_count": null,
   "metadata": {},
   "outputs": [],
   "source": [
    "df.to_csv(\"PhilosophizeThisTranscripts\")"
   ]
  },
  {
   "cell_type": "code",
   "execution_count": null,
   "metadata": {},
   "outputs": [],
   "source": []
  }
 ],
 "metadata": {
  "kernelspec": {
   "display_name": "Python 3",
   "language": "python",
   "name": "python3"
  },
  "language_info": {
   "codemirror_mode": {
    "name": "ipython",
    "version": 3
   },
   "file_extension": ".py",
   "mimetype": "text/x-python",
   "name": "python",
   "nbconvert_exporter": "python",
   "pygments_lexer": "ipython3",
   "version": "3.7.6"
  }
 },
 "nbformat": 4,
 "nbformat_minor": 4
}
